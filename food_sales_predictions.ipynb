{
  "nbformat": 4,
  "nbformat_minor": 0,
  "metadata": {
    "colab": {
      "provenance": [],
      "authorship_tag": "ABX9TyPafWcLIXoOOvuUsFeR9QNO",
      "include_colab_link": true
    },
    "kernelspec": {
      "name": "python3",
      "display_name": "Python 3"
    },
    "language_info": {
      "name": "python"
    }
  },
  "cells": [
    {
      "cell_type": "markdown",
      "metadata": {
        "id": "view-in-github",
        "colab_type": "text"
      },
      "source": [
        "<a href=\"https://colab.research.google.com/github/kellianneyang/food-sales-predictions/blob/main/food_sales_predictions.ipynb\" target=\"_parent\"><img src=\"https://colab.research.google.com/assets/colab-badge.svg\" alt=\"Open In Colab\"/></a>"
      ]
    },
    {
      "cell_type": "markdown",
      "source": [
        "# **Food Sales Predictions**\n",
        "### Project 1 - Part 1\n",
        "### Data Science Fundamentals\n",
        "### Coding Dojo"
      ],
      "metadata": {
        "id": "4eHhfQwWUw1J"
      }
    },
    {
      "cell_type": "markdown",
      "source": [
        "Author: Kellianne Yang"
      ],
      "metadata": {
        "id": "7Lq5Bdg8U287"
      }
    },
    {
      "cell_type": "code",
      "source": [],
      "metadata": {
        "id": "QQxrvrwyVScT"
      },
      "execution_count": null,
      "outputs": []
    },
    {
      "cell_type": "markdown",
      "source": [
        "## Loading Data"
      ],
      "metadata": {
        "id": "sN9oFRW9U4ra"
      }
    },
    {
      "cell_type": "code",
      "source": [],
      "metadata": {
        "id": "RiaBp5E5VS9r"
      },
      "execution_count": null,
      "outputs": []
    },
    {
      "cell_type": "markdown",
      "source": [
        "## Data Cleaning"
      ],
      "metadata": {
        "id": "upYI2SWgU9I7"
      }
    },
    {
      "cell_type": "code",
      "source": [],
      "metadata": {
        "id": "7KahZQd1VTfD"
      },
      "execution_count": null,
      "outputs": []
    },
    {
      "cell_type": "markdown",
      "source": [
        "## Exploratory Visuals"
      ],
      "metadata": {
        "id": "A7uW2YCKU-qS"
      }
    },
    {
      "cell_type": "code",
      "source": [],
      "metadata": {
        "id": "tMHshvQSVUJz"
      },
      "execution_count": null,
      "outputs": []
    },
    {
      "cell_type": "markdown",
      "source": [
        "## Explanatory Visuals"
      ],
      "metadata": {
        "id": "nPDsFwV5VAhD"
      }
    },
    {
      "cell_type": "code",
      "source": [],
      "metadata": {
        "id": "ZSfcp8NwVUzr"
      },
      "execution_count": null,
      "outputs": []
    }
  ]
}